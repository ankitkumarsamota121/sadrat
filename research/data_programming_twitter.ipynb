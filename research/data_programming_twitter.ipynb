{
 "cells": [
  {
   "cell_type": "markdown",
   "metadata": {},
   "source": [
    "# Labelling ADRs using Data Programming Paradigm from Twitter Data"
   ]
  },
  {
   "cell_type": "code",
   "execution_count": 1,
   "metadata": {},
   "outputs": [],
   "source": [
    "import pandas as pd\n",
    "import pickle\n",
    "import sys\n",
    "sys.path.append('/Users/jarvis/Desktop/CODE/sadrat/')\n",
    "\n",
    "from scrapers.helpers import Preprocessing"
   ]
  },
  {
   "cell_type": "code",
   "execution_count": 2,
   "metadata": {},
   "outputs": [],
   "source": [
    "from nltk.tokenize import word_tokenize\n",
    "from nltk.corpus import stopwords\n",
    "from nltk.stem import PorterStemmer\n",
    "import re\n",
    "stop_list = set(stopwords.words('english'))\n",
    "stemmer = PorterStemmer()"
   ]
  },
  {
   "cell_type": "code",
   "execution_count": 3,
   "metadata": {},
   "outputs": [],
   "source": [
    "#tqdm for estimating time taken for a task\n",
    "from tqdm import tqdm_notebook"
   ]
  },
  {
   "cell_type": "markdown",
   "metadata": {},
   "source": [
    "# Import Dataset\n",
    "Having a look at the dataset"
   ]
  },
  {
   "cell_type": "code",
   "execution_count": 4,
   "metadata": {},
   "outputs": [],
   "source": [
    "# As the input file is quite large, use dtype to specify the datatype of each column so that pandas doesn't need\n",
    "# to find it out itself which is a memory intensive task.\n",
    "df = pd.read_csv(\"/Users/jarvis/Desktop/CODE/sadrat/datasets/adrmine.csv\")"
   ]
  },
  {
   "cell_type": "code",
   "execution_count": 5,
   "metadata": {},
   "outputs": [
    {
     "data": {
      "text/plain": [
       "(965, 2)"
      ]
     },
     "execution_count": 5,
     "metadata": {},
     "output_type": "execute_result"
    }
   ],
   "source": [
    "df.shape"
   ]
  },
  {
   "cell_type": "code",
   "execution_count": 6,
   "metadata": {},
   "outputs": [
    {
     "data": {
      "text/html": [
       "<div>\n",
       "<style scoped>\n",
       "    .dataframe tbody tr th:only-of-type {\n",
       "        vertical-align: middle;\n",
       "    }\n",
       "\n",
       "    .dataframe tbody tr th {\n",
       "        vertical-align: top;\n",
       "    }\n",
       "\n",
       "    .dataframe thead th {\n",
       "        text-align: right;\n",
       "    }\n",
       "</style>\n",
       "<table border=\"1\" class=\"dataframe\">\n",
       "  <thead>\n",
       "    <tr style=\"text-align: right;\">\n",
       "      <th></th>\n",
       "      <th>tweet_id</th>\n",
       "      <th>tweet</th>\n",
       "    </tr>\n",
       "  </thead>\n",
       "  <tbody>\n",
       "    <tr>\n",
       "      <th>0</th>\n",
       "      <td>3.446170e+17</td>\n",
       "      <td>Vyvanse, commonly known as OCD in a pill.</td>\n",
       "    </tr>\n",
       "    <tr>\n",
       "      <th>1</th>\n",
       "      <td>3.446300e+17</td>\n",
       "      <td>@MTV When are you going to do True Life: I am ...</td>\n",
       "    </tr>\n",
       "    <tr>\n",
       "      <th>2</th>\n",
       "      <td>3.421170e+17</td>\n",
       "      <td>NEW post: how did my weekend go? What is anasa...</td>\n",
       "    </tr>\n",
       "    <tr>\n",
       "      <th>3</th>\n",
       "      <td>3.514470e+17</td>\n",
       "      <td>I wonder if seroquel /then/ food still equals ...</td>\n",
       "    </tr>\n",
       "    <tr>\n",
       "      <th>4</th>\n",
       "      <td>3.482630e+17</td>\n",
       "      <td>Rivaroxaban diary day 22. Last tablet taken Tu...</td>\n",
       "    </tr>\n",
       "  </tbody>\n",
       "</table>\n",
       "</div>"
      ],
      "text/plain": [
       "       tweet_id                                              tweet\n",
       "0  3.446170e+17          Vyvanse, commonly known as OCD in a pill.\n",
       "1  3.446300e+17  @MTV When are you going to do True Life: I am ...\n",
       "2  3.421170e+17  NEW post: how did my weekend go? What is anasa...\n",
       "3  3.514470e+17  I wonder if seroquel /then/ food still equals ...\n",
       "4  3.482630e+17  Rivaroxaban diary day 22. Last tablet taken Tu..."
      ]
     },
     "execution_count": 6,
     "metadata": {},
     "output_type": "execute_result"
    }
   ],
   "source": [
    "df.head()"
   ]
  },
  {
   "cell_type": "markdown",
   "metadata": {},
   "source": [
    "# The Problem Statement\n",
    "(Writing the problem statement so that I don't forget the main intention of the task when the code gets bigger 😬).<br>\n",
    "* Find and label ADR signals from the \"text\" column of the dataset using Data Programming(DP) paradigm. \n",
    "* Write different labelling functions using Snorkel framework and apply DP.\n",
    "* Train and validate the model."
   ]
  },
  {
   "cell_type": "markdown",
   "metadata": {},
   "source": [
    "### Getting the dictionary of drugs and their known side effects scraped from drugs.com website."
   ]
  },
  {
   "cell_type": "code",
   "execution_count": 7,
   "metadata": {},
   "outputs": [],
   "source": [
    "with open(\"/Users/jarvis/Desktop/CODE/sadrat/datasets/drug_adr\", \"rb\") as file:\n",
    "    drugs = pickle.load(file)\n",
    "file.close()"
   ]
  },
  {
   "cell_type": "markdown",
   "metadata": {},
   "source": [
    "# Labeling Functions\n",
    "We will write four labelling functions. (collaborators can add more labeling function after team discussion)\n",
    "1. Sentiment Analysis - sentence polarities\n",
    "2. Sentiment Analysis - sentence subjectivities\n",
    "3. Distant Supervision\n",
    "4. Simple ADR term matching"
   ]
  },
  {
   "cell_type": "code",
   "execution_count": 8,
   "metadata": {},
   "outputs": [],
   "source": [
    "# defining constants for clarity\n",
    "ADR = 1\n",
    "ABSTAIN = -1\n",
    "NOADR = 0"
   ]
  },
  {
   "cell_type": "markdown",
   "metadata": {},
   "source": [
    "### Import Snorkel"
   ]
  },
  {
   "cell_type": "code",
   "execution_count": 9,
   "metadata": {},
   "outputs": [],
   "source": [
    "from snorkel.labeling import labeling_function\n",
    "from snorkel.preprocess import preprocessor\n",
    "from textblob import TextBlob\n",
    "import matplotlib.pyplot as plt"
   ]
  },
  {
   "cell_type": "markdown",
   "metadata": {},
   "source": [
    "### LF1 and LF2: Sentiment Analysis"
   ]
  },
  {
   "cell_type": "markdown",
   "metadata": {},
   "source": [
    "#### NOTE:\n",
    "Polarity is float which lies in the range of [-1,1] where 1 means positive statement and -1 means a negative statement. Subjective sentences generally refer to personal opinion, emotion or judgment whereas objective refers to factual information. Subjectivity is also a float which lies in the range of [0,1]. <br>\n",
    "**Hence a probable ADR must have low polarity and high subjectivity**"
   ]
  },
  {
   "cell_type": "code",
   "execution_count": 10,
   "metadata": {},
   "outputs": [],
   "source": [
    "@preprocessor(memoize=True)\n",
    "# type(x) - pandas Series\n",
    "def textblob_sentiment(x):\n",
    "    scores = TextBlob(x[\"tweet\"])\n",
    "    x.polarity = scores.sentiment.polarity\n",
    "    x.subjectivity = scores.sentiment.subjectivity\n",
    "    return x"
   ]
  },
  {
   "cell_type": "code",
   "execution_count": 11,
   "metadata": {},
   "outputs": [],
   "source": [
    "comment_polarities = [textblob_sentiment(x).polarity for _, x in df.iterrows()]\n",
    "comment_subjectivities = [textblob_sentiment(x).subjectivity for _, x in df.iterrows()]"
   ]
  },
  {
   "cell_type": "code",
   "execution_count": 12,
   "metadata": {},
   "outputs": [
    {
     "data": {
      "image/png": "[encoded data removed]",
      "text/plain": [
       "<Figure size 432x288 with 2 Axes>"
      ]
     },
     "metadata": {
      "needs_background": "light"
     },
     "output_type": "display_data"
    }
   ],
   "source": [
    "# plotting the data\n",
    "plt.subplot(1,2,1)\n",
    "plt.hist(comment_polarities, bins=10)\n",
    "plt.title(\"comment polarity distribution\")\n",
    "plt.xlabel(\"polarity\")\n",
    "plt.ylabel(\"no.of comments\")\n",
    "plt.subplots_adjust(hspace=1, left=0.225, right=2, wspace=0.2)\n",
    "\n",
    "plt.subplot(1,2,2)\n",
    "plt.hist(comment_subjectivities, bins=10)\n",
    "plt.title(\"comment subjectivity distribution\")\n",
    "plt.xlabel(\"subjectivity\")\n",
    "plt.ylabel(\"no.of comments\")\n",
    "# plt.savefig(\"sentiment_analysis2.png\", bbox_inches=\"tight\", dpi=300, pad_inches=0.1)\n",
    "plt.show()"
   ]
  },
  {
   "cell_type": "code",
   "execution_count": 13,
   "metadata": {},
   "outputs": [],
   "source": [
    "@labeling_function(pre=[textblob_sentiment])\n",
    "def textblob_polarity(x):\n",
    "    return ADR if x.polarity < 0 else ABSTAIN"
   ]
  },
  {
   "cell_type": "code",
   "execution_count": 14,
   "metadata": {},
   "outputs": [],
   "source": [
    "@labeling_function(pre=[textblob_sentiment])\n",
    "def textblob_subjectivity(x):\n",
    "    return ADR if x.subjectivity > 0.6 else ABSTAIN"
   ]
  },
  {
   "cell_type": "markdown",
   "metadata": {},
   "source": [
    "# LF3: Based on Known ADRs - Distant Supervision\n",
    "Return 1 if ADR for the given drug is already known else return 0.<br>\n",
    "Use the preprocessing function from helpers.py"
   ]
  },
  {
   "cell_type": "markdown",
   "metadata": {},
   "source": [
    "### \\# Semantic Similarity (used by LF2)\n",
    "Finding the semantic similarity between the user comment and all the known adr for the particular drug"
   ]
  },
  {
   "cell_type": "code",
   "execution_count": 15,
   "metadata": {},
   "outputs": [],
   "source": [
    "def semantic_similarity(comment):\n",
    "    \"\"\"\n",
    "    @params: \n",
    "            type(comment): string\n",
    "            \n",
    "    credits: geeksforgeeks.org for some part of the below code\n",
    "    https://www.geeksforgeeks.org/python-measure-similarity-between-two-sentences-using-cosine-similarity/\n",
    "    \"\"\"\n",
    "    p = Preprocessing()\n",
    "    extracted_drugs_list = list()\n",
    "    known_adr = \"\"\n",
    "    clean_comment = p.simple_preprocessor_string(comment)\n",
    "    for word in clean_comment.split():\n",
    "        if word.capitalize() in drugs.keys():\n",
    "            extracted_drugs_list.append(word)\n",
    "            for adr in drugs[word.capitalize()]:\n",
    "                known_adr = known_adr + adr\n",
    "        else:\n",
    "            continue\n",
    "#     print(known_adr)\n",
    "    # clean the adr sentence\n",
    "    known_adr = re.sub('[,-]','',known_adr)\n",
    "    \n",
    "    ### calculate cosine similarity between known_adr and clean_comment\n",
    "    l1 = list()\n",
    "    l2 = list()\n",
    "    #tokenize the strings\n",
    "    clean_comment_set = {x for x in word_tokenize(clean_comment)}\n",
    "    known_adr_set = {x for x in word_tokenize(known_adr)}\n",
    "    \n",
    "    #form a set containing keywords of both strings\n",
    "    rvec = clean_comment_set.union(known_adr_set)\n",
    "    \n",
    "    for w in rvec:\n",
    "        if w in clean_comment_set:\n",
    "            l1.append(1)\n",
    "        else:\n",
    "            l1.append(0)\n",
    "        if w in known_adr_set:\n",
    "            l2.append(1)\n",
    "        else:\n",
    "            l2.append(0)\n",
    "    c = 0\n",
    "    \n",
    "    # cosine formula\n",
    "    for i in range(len(rvec)):\n",
    "        c = c + l1[i]*l2[i]\n",
    "        \n",
    "    if (sum(l1) and sum(l2)) != 0:\n",
    "        cosine_similarity_score = c/float(sum(l1)*sum(l2)**0.5)\n",
    "        return cosine_similarity_score\n",
    "    else:\n",
    "        return 0"
   ]
  },
  {
   "cell_type": "markdown",
   "metadata": {},
   "source": [
    "### Test semantic_similarity()"
   ]
  },
  {
   "cell_type": "code",
   "execution_count": 16,
   "metadata": {},
   "outputs": [
    {
     "name": "stdout",
     "output_type": "stream",
     "text": [
      "Levaquin sucks. Blinding headaches. Vomiting. Diarrhea.\n",
      "\n",
      "Time for my next dose.\n",
      "\n",
      "Happy weekend.\n",
      "\n",
      "#tmi #FML\n"
     ]
    }
   ],
   "source": [
    "#looking at a random tweet\n",
    "print(df[\"tweet\"][12], end = \"\\n\")"
   ]
  },
  {
   "cell_type": "code",
   "execution_count": 17,
   "metadata": {},
   "outputs": [
    {
     "name": "stdout",
     "output_type": "stream",
     "text": [
      "0.0\n"
     ]
    }
   ],
   "source": [
    "# test semantic_similarity\n",
    "print(semantic_similarity(\"Levaquin sucks. Blinding headaches. Vomiting. Diarrhea. Time for my next dose.Happy weekend.\"))"
   ]
  },
  {
   "cell_type": "code",
   "execution_count": 18,
   "metadata": {},
   "outputs": [
    {
     "data": {
      "application/vnd.jupyter.widget-view+json": {
       "model_id": "2ff90d905522414296d2750a0c74172d",
       "version_major": 2,
       "version_minor": 0
      },
      "text/plain": [
       "HBox(children=(IntProgress(value=1, bar_style='info', max=1), HTML(value='')))"
      ]
     },
     "metadata": {},
     "output_type": "display_data"
    },
    {
     "name": "stdout",
     "output_type": "stream",
     "text": [
      "\n"
     ]
    },
    {
     "data": {
      "image/png": "[encoded data removed]",
      "text/plain": [
       "<Figure size 432x288 with 1 Axes>"
      ]
     },
     "metadata": {
      "needs_background": "light"
     },
     "output_type": "display_data"
    }
   ],
   "source": [
    "# plot semantic similarity over all datapoints\n",
    "Y = list()\n",
    "P = list()\n",
    "for _, x in tqdm_notebook(df.iterrows()):\n",
    "    Y.append(semantic_similarity(x[\"tweet\"]))\n",
    "    \n",
    "plt.title(\"distribution of semantic similarity scores\")\n",
    "plt.hist(Y, bins = 10)\n",
    "# plt.savefig(\"sentiment_analysis2.png\", bbox_inches=\"tight\", dpi=300, pad_inches=0.1)\n",
    "plt.show()"
   ]
  },
  {
   "cell_type": "code",
   "execution_count": 19,
   "metadata": {},
   "outputs": [],
   "source": [
    "@labeling_function()\n",
    "def distant_supervision(x):\n",
    "    \"\"\"\n",
    "    @params: type(x) - pandas series object\n",
    "    \"\"\"\n",
    "    if semantic_similarity(x[\"tweet\"]) == 0:\n",
    "        return ABSTAIN\n",
    "    else:\n",
    "        return ADR"
   ]
  },
  {
   "cell_type": "markdown",
   "metadata": {},
   "source": [
    "### LF 4: Look out for any mention of known ADR in the user comment\n",
    "1. Make the Keyword space from the drug dictionary\n",
    "2. Preprocess the user comment \n",
    "3. Use semantic similarity"
   ]
  },
  {
   "cell_type": "code",
   "execution_count": 20,
   "metadata": {},
   "outputs": [],
   "source": [
    "# 1. Create Keywordspace\n",
    "keywordspace = list()\n",
    "for x in drugs.keys():\n",
    "    for p in drugs[x]:\n",
    "        for word in p.split():\n",
    "            if word != \",\" and len(word) > 4 and word not in keywordspace:\n",
    "                keywordspace.append(word)"
   ]
  },
  {
   "cell_type": "code",
   "execution_count": 21,
   "metadata": {},
   "outputs": [],
   "source": [
    "def adr_term_matching(comment):\n",
    "    \"\"\"\n",
    "    type(x): string\n",
    "    \"\"\"\n",
    "    # preprocess x[\" comment\"]\n",
    "    p = Preprocessing()\n",
    "    clean_text = p.simple_preprocessor_string(comment)\n",
    "    \n",
    "    word_matches = 0\n",
    "    for word in clean_text.split():\n",
    "        if word in keywordspace:\n",
    "            word_matches = word_matches + 1\n",
    "        else:\n",
    "            continue\n",
    "    if word_matches != None:\n",
    "        return word_matches\n",
    "    else:\n",
    "        return 0"
   ]
  },
  {
   "cell_type": "code",
   "execution_count": 22,
   "metadata": {},
   "outputs": [
    {
     "data": {
      "application/vnd.jupyter.widget-view+json": {
       "model_id": "7f7f95436e9e4aacbd5d5d413c2e2770",
       "version_major": 2,
       "version_minor": 0
      },
      "text/plain": [
       "HBox(children=(IntProgress(value=1, bar_style='info', max=1), HTML(value='')))"
      ]
     },
     "metadata": {},
     "output_type": "display_data"
    },
    {
     "name": "stdout",
     "output_type": "stream",
     "text": [
      "\n"
     ]
    },
    {
     "data": {
      "image/png": "[encoded data removed]",
      "text/plain": [
       "<Figure size 432x288 with 1 Axes>"
      ]
     },
     "metadata": {
      "needs_background": "light"
     },
     "output_type": "display_data"
    }
   ],
   "source": [
    "# plot distribution of adr word matches\n",
    "\n",
    "X = list()\n",
    "for _, x in tqdm_notebook(df.iterrows()):\n",
    "    X.append(adr_term_matching(x[\"tweet\"]))\n",
    "plt.title(\"Distribution of ADR term matching across all datapoints\")\n",
    "plt.hist(X, bins = 20)\n",
    "plt.show()"
   ]
  },
  {
   "cell_type": "markdown",
   "metadata": {},
   "source": [
    "#### Asumption: \n",
    "Take matching score 0 as NOADR 1 as ABSTAIN and above 1 as ADR<br>\n",
    "`again, this is just a guess and you can play with these thresholds to get a better labeling function`"
   ]
  },
  {
   "cell_type": "code",
   "execution_count": 23,
   "metadata": {},
   "outputs": [],
   "source": [
    "@labeling_function()\n",
    "def simple_term_matching(x):\n",
    "    \"\"\"\n",
    "    type(x): pandas Series object\n",
    "    \"\"\"\n",
    "    score = adr_term_matching(x[\"tweet\"])\n",
    "    if score != None:\n",
    "        if score == 0 :\n",
    "            return NOADR\n",
    "        elif score == 1:\n",
    "            return ABSTAIN\n",
    "        elif score > 1:\n",
    "            return ADR\n",
    "    else:\n",
    "        return ABSTAIN\n",
    "    \n",
    "    return ABSTAIN"
   ]
  },
  {
   "cell_type": "markdown",
   "metadata": {},
   "source": [
    "## Apply LFs\n",
    "#### Creating a test set and a training set\n",
    "create a test set by manualy labelling the ADRs."
   ]
  },
  {
   "cell_type": "code",
   "execution_count": 24,
   "metadata": {},
   "outputs": [
    {
     "data": {
      "text/html": [
       "<div>\n",
       "<style scoped>\n",
       "    .dataframe tbody tr th:only-of-type {\n",
       "        vertical-align: middle;\n",
       "    }\n",
       "\n",
       "    .dataframe tbody tr th {\n",
       "        vertical-align: top;\n",
       "    }\n",
       "\n",
       "    .dataframe thead th {\n",
       "        text-align: right;\n",
       "    }\n",
       "</style>\n",
       "<table border=\"1\" class=\"dataframe\">\n",
       "  <thead>\n",
       "    <tr style=\"text-align: right;\">\n",
       "      <th></th>\n",
       "      <th>tweet_id</th>\n",
       "      <th>tweet</th>\n",
       "    </tr>\n",
       "  </thead>\n",
       "  <tbody>\n",
       "    <tr>\n",
       "      <th>637</th>\n",
       "      <td>3.514010e+17</td>\n",
       "      <td>Ah the sting of the #Humira injection. How I'v...</td>\n",
       "    </tr>\n",
       "    <tr>\n",
       "      <th>639</th>\n",
       "      <td>3.420490e+17</td>\n",
       "      <td>You can have all the papers, articles etc abou...</td>\n",
       "    </tr>\n",
       "    <tr>\n",
       "      <th>626</th>\n",
       "      <td>3.484580e+17</td>\n",
       "      <td>@VinnieMedugno come hangout by the pool</td>\n",
       "    </tr>\n",
       "    <tr>\n",
       "      <th>99</th>\n",
       "      <td>3.340240e+17</td>\n",
       "      <td>*sanctifies mind* I'm fine. U? \"@BryteDude: @r...</td>\n",
       "    </tr>\n",
       "    <tr>\n",
       "      <th>472</th>\n",
       "      <td>3.488620e+17</td>\n",
       "      <td>Lunch: Carnita taco from new Taqueria, chicken...</td>\n",
       "    </tr>\n",
       "  </tbody>\n",
       "</table>\n",
       "</div>"
      ],
      "text/plain": [
       "         tweet_id                                              tweet\n",
       "637  3.514010e+17  Ah the sting of the #Humira injection. How I'v...\n",
       "639  3.420490e+17  You can have all the papers, articles etc abou...\n",
       "626  3.484580e+17            @VinnieMedugno come hangout by the pool\n",
       "99   3.340240e+17  *sanctifies mind* I'm fine. U? \"@BryteDude: @r...\n",
       "472  3.488620e+17  Lunch: Carnita taco from new Taqueria, chicken..."
      ]
     },
     "execution_count": 24,
     "metadata": {},
     "output_type": "execute_result"
    }
   ],
   "source": [
    "# TODO : manually anotate these datapoints.\n",
    "df_test = df.sample(30, random_state=3)\n",
    "df_test.head()"
   ]
  },
  {
   "cell_type": "code",
   "execution_count": 25,
   "metadata": {},
   "outputs": [
    {
     "data": {
      "text/plain": [
       "(935, 2)"
      ]
     },
     "execution_count": 25,
     "metadata": {},
     "output_type": "execute_result"
    }
   ],
   "source": [
    "# make the training set\n",
    "drop_index_list = list(df_test.index)\n",
    "df_train = df.drop(drop_index_list)\n",
    "df_train.shape"
   ]
  },
  {
   "cell_type": "code",
   "execution_count": 39,
   "metadata": {},
   "outputs": [
    {
     "name": "stdout",
     "output_type": "stream",
     "text": [
      "3.51401e+17 Ah the sting of the #Humira injection. How I've not missed thee. #Ankylosing #Spondylitisq #Ouch\n",
      "\n",
      "3.42049e+17 You can have all the papers, articles etc about #Pradaxa but until there is an antidote, this drug is a killer. #RECALLPRADAXA\n",
      "\n",
      "3.48458e+17 @VinnieMedugno come hangout by the pool\n",
      "\n",
      "3.34024e+17 *sanctifies mind* I'm fine. U? \"@BryteDude: @remiamaka U said 'come again' and I said 'hand'. Belief is a thing of the mind. Howdy doc?\"\n",
      "\n",
      "3.48862e+17 Lunch: Carnita taco from new Taqueria, chicken soup, Ricola throat lozenge for dessert. Clearly trying to add stomach issues to the mix. O_o\n",
      "\n",
      "3.40608e+17 @galaxiianxoxo Depression hurts, Cymbalta can help.\n",
      "\n",
      "3.40562e+17 \"@UberFacts: Bananas contain a natural chemical that can make a person happy - The same chemical found in Prozac.\" @CraigyAlford94 this too!\n",
      "\n",
      "3.4886e+17 Comparison of 4 antipsychotics in patients over 40 with psychiatric disorders. quetiapine least safe http://1.usa.gov/14mFdY1ï¿½ @MedClerkships\n",
      "\n",
      "3.46631e+17 \"The diagnosis of depression didnï¿½t become popular in Japan until Glaxo-SmithKlein got approval to market Paxil in the country.\" - Ibid.\n",
      "\n",
      "3.49018e+17 I need a few Trazodone and a good nights sleep. See you guys. I really hope I wake up to storyline. *grins*\n",
      "\n",
      "3.51683e+17 Brisdelle dangerous. Paxil is supposed to treat depression and suicidal thoughts.  I took Paxil and got depressed. Went off & OK in 2 wk.\n",
      "\n",
      "3.49419e+17 June 24, 2013: begin taking blood pressure medication; feel extremely old; adjust trifocals; clean dentures.\n",
      "\n",
      "3.47053e+17 I guess we're hedging our bets. This little pill treats Strep, Anthrax, Plague, TB, Pneumonia,ï¿½ http://instagram.com/p/atav0rCDQ2/ï¿½\n",
      "\n",
      "3.41964e+17 So apparently 60mgs of Prozac will make you scared of eating GMO's and make you think you need to save the world! Switching back to 40mgs!!!\n",
      "\n",
      "3.50856e+17 Stopped #seroquel for 2 months as it caused terrible side effect. Had to start back up or lose my job #hotflashes r soooo fun #thisismylife\n",
      "\n",
      "3.47835e+17 You know starting with geodon, the meds messed up my attitude. How odd. It's not just about spirituality. I became a bit mean. That got\n",
      "\n",
      "3.48459e+17 Got my shit taken from me because I burned myself with salt and ice 20 times on my leg. Out for the day ! Hair appt at 11. On latuda now.\n",
      "\n",
      "3.48699e+17 Holy shit balls pristiq withdrawals are very strong!\n",
      "\n",
      "3.52108e+17 Fed up of aching bones :( Wonder drugs work some magic please. #rheumatoidarthritis #enbrel\n",
      "\n",
      "3.3218e+17 Effexor Lawsuits Involving Heart Birth Defects Removed to Federal Court #Effexor #News #Antidepressants\n",
      "\n",
      "3.49786e+17 @CIPROisPOISON You r Right Cipro nearly killed me\n",
      "\n",
      "3.4171e+17 #tysabri infusion 37 ... 4 days late but it's ok better late than never ...pic.twitter.com/X3w5w5mhsP\n",
      "\n",
      "3.50891e+17 Well,yesterday was rubbish(post humira)all day in bed,loads of pain etc.Just got up and I think I'm alright?Give it an hour and reassess lol\n",
      "\n",
      "3.43861e+17 Have any of you developed knee pain since starting Tysabri ? What helps with the problem ?\n",
      "\n",
      "3.31479e+17 @BipolarBlogger I'm having a rough time finding meds that work. Had a breakdown and nothing has managed to fully control since.\n",
      "\n",
      "3.40447e+17 Dr. Kyrillos: Of SSRIs, Paxil has the greatest assoc with #weight gain. Rx with caution in pts with presenting weight issues. #PAIPIP #QI\n",
      "\n",
      "3.42131e+17 \"Slow down, you sound like the end of a Cymbalta commercial.\" - Lucille Bluth\n",
      "\n",
      "3.45367e+17 @_D_i_a_s_ you're starting to sound like a Cymbalta commercial, lighten up!\n",
      "\n",
      "3.46054e+17 Titanic.... #emotional\n",
      "\n",
      "3.49191e+17 How are you feeling today? #Monday\n",
      "\n"
     ]
    }
   ],
   "source": [
    "for _,x in df_test.iterrows():\n",
    "    print(x[0],x[1])\n",
    "    print(\"\")"
   ]
  },
  {
   "cell_type": "code",
   "execution_count": 41,
   "metadata": {},
   "outputs": [],
   "source": [
    "manual_label_list = [0,1,0,0,0,0,0,1,0,0,1,1,0,1,1,1,0,1,0,0,1,0,1,1,0,1,0,0,0,0]"
   ]
  },
  {
   "cell_type": "markdown",
   "metadata": {},
   "source": [
    "### Apply the LFs"
   ]
  },
  {
   "cell_type": "code",
   "execution_count": 42,
   "metadata": {},
   "outputs": [
    {
     "name": "stderr",
     "output_type": "stream",
     "text": [
      "/Users/jarvis/venvs/sadrat/lib/python3.7/site-packages/tqdm/std.py:648: FutureWarning: The Panel class is removed from pandas. Accessing it from the top-level namespace will also be removed in the next version\n",
      "  from pandas import Panel\n",
      "100%|██████████| 935/935 [00:02<00:00, 416.07it/s]\n"
     ]
    }
   ],
   "source": [
    "from snorkel.labeling import PandasLFApplier\n",
    "lfs = [textblob_polarity,\n",
    "       textblob_subjectivity,\n",
    "       distant_supervision,\n",
    "       simple_term_matching\n",
    "      ]\n",
    "applier = PandasLFApplier(lfs=lfs)\n",
    "L_train = applier.apply(df=df_train)"
   ]
  },
  {
   "cell_type": "markdown",
   "metadata": {},
   "source": [
    "### Evaluate Performance of LFs\n",
    "#### 1. Coverage Check"
   ]
  },
  {
   "cell_type": "code",
   "execution_count": 43,
   "metadata": {},
   "outputs": [
    {
     "name": "stdout",
     "output_type": "stream",
     "text": [
      "textblob_polarity coverage: 28.0%\n",
      "textblob_subjectivity coverage: 27.9%\n",
      "distant_supervision coverage: 17.5%\n",
      "simple_term_matching coverage: 68.1%\n"
     ]
    }
   ],
   "source": [
    "coverage_textblob_polarity, coverage_textblob_subjectivity, coverage_distant_supervision,\\\n",
    "coverage_simple_term_matching = (L_train != ABSTAIN).mean(axis=0)\n",
    "print(f\"textblob_polarity coverage: {coverage_textblob_polarity * 100:.1f}%\")\n",
    "print(f\"textblob_subjectivity coverage: {coverage_textblob_subjectivity * 100:.1f}%\")\n",
    "print(f\"distant_supervision coverage: {coverage_distant_supervision * 100:.1f}%\")\n",
    "print(f\"simple_term_matching coverage: {coverage_simple_term_matching * 100:.1f}%\")"
   ]
  },
  {
   "cell_type": "markdown",
   "metadata": {},
   "source": [
    "#### Statistical Analysis of LFs"
   ]
  },
  {
   "cell_type": "code",
   "execution_count": 44,
   "metadata": {},
   "outputs": [
    {
     "data": {
      "text/html": [
       "<div>\n",
       "<style scoped>\n",
       "    .dataframe tbody tr th:only-of-type {\n",
       "        vertical-align: middle;\n",
       "    }\n",
       "\n",
       "    .dataframe tbody tr th {\n",
       "        vertical-align: top;\n",
       "    }\n",
       "\n",
       "    .dataframe thead th {\n",
       "        text-align: right;\n",
       "    }\n",
       "</style>\n",
       "<table border=\"1\" class=\"dataframe\">\n",
       "  <thead>\n",
       "    <tr style=\"text-align: right;\">\n",
       "      <th></th>\n",
       "      <th>j</th>\n",
       "      <th>Polarity</th>\n",
       "      <th>Coverage</th>\n",
       "      <th>Overlaps</th>\n",
       "      <th>Conflicts</th>\n",
       "    </tr>\n",
       "  </thead>\n",
       "  <tbody>\n",
       "    <tr>\n",
       "      <th>textblob_polarity</th>\n",
       "      <td>0</td>\n",
       "      <td>[1]</td>\n",
       "      <td>0.280214</td>\n",
       "      <td>0.242781</td>\n",
       "      <td>0.068449</td>\n",
       "    </tr>\n",
       "    <tr>\n",
       "      <th>textblob_subjectivity</th>\n",
       "      <td>1</td>\n",
       "      <td>[1]</td>\n",
       "      <td>0.279144</td>\n",
       "      <td>0.248128</td>\n",
       "      <td>0.089840</td>\n",
       "    </tr>\n",
       "    <tr>\n",
       "      <th>distant_supervision</th>\n",
       "      <td>2</td>\n",
       "      <td>[1]</td>\n",
       "      <td>0.175401</td>\n",
       "      <td>0.145455</td>\n",
       "      <td>0.034225</td>\n",
       "    </tr>\n",
       "    <tr>\n",
       "      <th>simple_term_matching</th>\n",
       "      <td>3</td>\n",
       "      <td>[0, 1]</td>\n",
       "      <td>0.681283</td>\n",
       "      <td>0.351872</td>\n",
       "      <td>0.144385</td>\n",
       "    </tr>\n",
       "  </tbody>\n",
       "</table>\n",
       "</div>"
      ],
      "text/plain": [
       "                       j Polarity  Coverage  Overlaps  Conflicts\n",
       "textblob_polarity      0      [1]  0.280214  0.242781   0.068449\n",
       "textblob_subjectivity  1      [1]  0.279144  0.248128   0.089840\n",
       "distant_supervision    2      [1]  0.175401  0.145455   0.034225\n",
       "simple_term_matching   3   [0, 1]  0.681283  0.351872   0.144385"
      ]
     },
     "execution_count": 44,
     "metadata": {},
     "output_type": "execute_result"
    }
   ],
   "source": [
    "from snorkel.labeling import LFAnalysis\n",
    "\n",
    "LFAnalysis(L=L_train, lfs=lfs).lf_summary()"
   ]
  },
  {
   "cell_type": "code",
   "execution_count": 45,
   "metadata": {},
   "outputs": [
    {
     "name": "stderr",
     "output_type": "stream",
     "text": [
      "/Users/jarvis/venvs/sadrat/lib/python3.7/site-packages/tqdm/std.py:648: FutureWarning: The Panel class is removed from pandas. Accessing it from the top-level namespace will also be removed in the next version\n",
      "  from pandas import Panel\n",
      "100%|██████████| 30/30 [00:00<00:00, 383.15it/s]\n"
     ]
    }
   ],
   "source": [
    "L_dev = applier.apply(df=df_test)"
   ]
  },
  {
   "cell_type": "markdown",
   "metadata": {},
   "source": [
    "#### Checking Empirical Accuracy of different LFs"
   ]
  },
  {
   "cell_type": "code",
   "execution_count": 47,
   "metadata": {},
   "outputs": [
    {
     "data": {
      "text/html": [
       "<div>\n",
       "<style scoped>\n",
       "    .dataframe tbody tr th:only-of-type {\n",
       "        vertical-align: middle;\n",
       "    }\n",
       "\n",
       "    .dataframe tbody tr th {\n",
       "        vertical-align: top;\n",
       "    }\n",
       "\n",
       "    .dataframe thead th {\n",
       "        text-align: right;\n",
       "    }\n",
       "</style>\n",
       "<table border=\"1\" class=\"dataframe\">\n",
       "  <thead>\n",
       "    <tr style=\"text-align: right;\">\n",
       "      <th></th>\n",
       "      <th>j</th>\n",
       "      <th>Polarity</th>\n",
       "      <th>Coverage</th>\n",
       "      <th>Overlaps</th>\n",
       "      <th>Conflicts</th>\n",
       "      <th>Correct</th>\n",
       "      <th>Incorrect</th>\n",
       "      <th>Emp. Acc.</th>\n",
       "    </tr>\n",
       "  </thead>\n",
       "  <tbody>\n",
       "    <tr>\n",
       "      <th>textblob_polarity</th>\n",
       "      <td>0</td>\n",
       "      <td>[1]</td>\n",
       "      <td>0.300000</td>\n",
       "      <td>0.266667</td>\n",
       "      <td>0.033333</td>\n",
       "      <td>3</td>\n",
       "      <td>6</td>\n",
       "      <td>0.333333</td>\n",
       "    </tr>\n",
       "    <tr>\n",
       "      <th>textblob_subjectivity</th>\n",
       "      <td>1</td>\n",
       "      <td>[1]</td>\n",
       "      <td>0.300000</td>\n",
       "      <td>0.300000</td>\n",
       "      <td>0.100000</td>\n",
       "      <td>4</td>\n",
       "      <td>5</td>\n",
       "      <td>0.444444</td>\n",
       "    </tr>\n",
       "    <tr>\n",
       "      <th>distant_supervision</th>\n",
       "      <td>2</td>\n",
       "      <td>[1]</td>\n",
       "      <td>0.200000</td>\n",
       "      <td>0.166667</td>\n",
       "      <td>0.033333</td>\n",
       "      <td>3</td>\n",
       "      <td>3</td>\n",
       "      <td>0.500000</td>\n",
       "    </tr>\n",
       "    <tr>\n",
       "      <th>simple_term_matching</th>\n",
       "      <td>3</td>\n",
       "      <td>[0, 1]</td>\n",
       "      <td>0.633333</td>\n",
       "      <td>0.333333</td>\n",
       "      <td>0.133333</td>\n",
       "      <td>9</td>\n",
       "      <td>10</td>\n",
       "      <td>0.473684</td>\n",
       "    </tr>\n",
       "  </tbody>\n",
       "</table>\n",
       "</div>"
      ],
      "text/plain": [
       "                       j Polarity  Coverage  Overlaps  Conflicts  Correct  \\\n",
       "textblob_polarity      0      [1]  0.300000  0.266667   0.033333        3   \n",
       "textblob_subjectivity  1      [1]  0.300000  0.300000   0.100000        4   \n",
       "distant_supervision    2      [1]  0.200000  0.166667   0.033333        3   \n",
       "simple_term_matching   3   [0, 1]  0.633333  0.333333   0.133333        9   \n",
       "\n",
       "                       Incorrect  Emp. Acc.  \n",
       "textblob_polarity              6   0.333333  \n",
       "textblob_subjectivity          5   0.444444  \n",
       "distant_supervision            3   0.500000  \n",
       "simple_term_matching          10   0.473684  "
      ]
     },
     "execution_count": 47,
     "metadata": {},
     "output_type": "execute_result"
    }
   ],
   "source": [
    "df_test[\"label\"] = manual_label_list\n",
    "LFAnalysis(L=L_dev, lfs=lfs).lf_summary(Y=df_test.label.values)"
   ]
  },
  {
   "cell_type": "code",
   "execution_count": 48,
   "metadata": {},
   "outputs": [],
   "source": [
    "def plot_label_frequency(L):\n",
    "    plt.hist((L != ABSTAIN).sum(axis=1), density=True, bins=range(L.shape[1]))\n",
    "    plt.xlabel(\"Number of labels\")\n",
    "    plt.ylabel(\"Fraction of dataset\")"
   ]
  },
  {
   "cell_type": "code",
   "execution_count": 49,
   "metadata": {},
   "outputs": [
    {
     "data": {
      "image/png": "[encoded data removed]",
      "text/plain": [
       "<Figure size 432x288 with 2 Axes>"
      ]
     },
     "metadata": {
      "needs_background": "light"
     },
     "output_type": "display_data"
    }
   ],
   "source": [
    "plt.subplot(1,2,1)\n",
    "plot_label_frequency(L_train)\n",
    "plt.subplots_adjust(hspace=1, left=0.225, right=2, wspace=0.2)\n",
    "plt.subplot(1,2,2)\n",
    "plot_label_frequency(L_dev)\n",
    "plt.show()"
   ]
  },
  {
   "cell_type": "markdown",
   "metadata": {},
   "source": [
    "More than 50% of the training dataset is labelled by 2-3 LFs and more than 70% of the test set is labelled by 2-3 LFs.<br>\n",
    "Our goal is now to convert the labels from our LFs into a single _noise-aware_ probabilistic (or confidence-weighted) label per data point.\n",
    "A simple baseline for doing this is to take the majority vote on a per-data point basis: if more LFs voted ADR than NOADR, label it ADR (and vice versa).\n",
    "We can test this with the\n",
    "[`MajorityLabelVoter` baseline model](https://snorkel.readthedocs.io/en/master/packages/_autosummary/labeling/snorkel.labeling.MajorityLabelVoter.html#snorkel.labeling.MajorityLabelVoter)."
   ]
  },
  {
   "cell_type": "code",
   "execution_count": 50,
   "metadata": {},
   "outputs": [],
   "source": [
    "from snorkel.labeling import MajorityLabelVoter\n",
    "\n",
    "majority_model = MajorityLabelVoter()\n",
    "preds_train = majority_model.predict(L=L_train)"
   ]
  },
  {
   "cell_type": "code",
   "execution_count": 51,
   "metadata": {},
   "outputs": [
    {
     "data": {
      "text/plain": [
       "array([ 1,  1, -1,  1,  1,  1,  1,  0,  1,  1,  0, -1,  1,  1,  1,  0,  1,\n",
       "       -1, -1,  1,  1,  1, -1,  1, -1,  1, -1,  1,  1,  1,  1,  1,  0,  1,\n",
       "        1,  1,  1,  0, -1,  1,  1, -1, -1,  1,  1,  0, -1,  1,  1,  1,  1,\n",
       "        1, -1,  1, -1,  1, -1,  1,  1,  0,  0,  1, -1,  0,  1,  1,  1,  1,\n",
       "        1,  1,  1,  1,  0,  0, -1,  1,  1, -1, -1,  0,  0,  1,  0,  1,  1,\n",
       "        1,  1,  0, -1,  1,  1,  0,  1,  1, -1,  1,  1,  1, -1,  1,  1,  1,\n",
       "        1,  1,  1, -1,  0,  0, -1, -1, -1, -1,  1,  1,  1,  1,  1,  1,  1,\n",
       "        0,  1,  1,  1,  1, -1,  1,  1,  1, -1,  1,  1, -1, -1, -1,  1,  1,\n",
       "        1,  1,  0,  1,  1,  1,  0,  1,  1,  1, -1,  1, -1,  1,  1,  1,  1,\n",
       "       -1, -1,  0, -1,  1,  1,  1,  1, -1,  0,  1, -1, -1,  1,  1,  1,  1,\n",
       "        1,  1,  1, -1, -1,  0,  0,  1,  1,  1,  1,  1, -1,  0,  1, -1, -1,\n",
       "        1,  1,  1,  1,  1, -1, -1,  1,  1,  1, -1,  1,  0,  1,  1, -1,  0,\n",
       "        1,  0, -1,  1, -1,  1, -1,  1,  1,  1,  1,  0, -1,  1,  1,  1, -1,\n",
       "        0,  0,  1,  1,  1,  1,  1,  1,  1,  1,  1,  1,  1,  1,  0,  1,  1,\n",
       "       -1,  0,  1,  1,  0, -1,  1,  0, -1,  1,  1, -1, -1,  1, -1,  1, -1,\n",
       "       -1,  1,  1, -1,  1, -1,  0,  1, -1,  0, -1,  1,  1,  0,  1,  1,  1,\n",
       "        0,  1,  1,  1,  1,  0, -1,  1,  0,  1,  1, -1, -1, -1,  1,  1,  1,\n",
       "        1, -1,  0, -1,  0,  1, -1, -1,  1, -1,  1,  1,  0, -1,  1,  1,  1,\n",
       "        1,  1,  0,  1,  1,  1,  1,  1,  1, -1, -1,  0,  1,  1,  1, -1,  1,\n",
       "        0, -1,  0, -1,  1,  1,  0,  1,  0,  1,  1,  1,  1,  1,  1,  1,  0,\n",
       "        1, -1, -1,  0,  1,  1, -1, -1,  1, -1, -1,  1,  1,  1, -1, -1,  0,\n",
       "        1,  1,  1, -1,  0,  1,  1,  1,  0,  1,  0,  1,  1,  1,  1,  1,  1,\n",
       "        1, -1,  0,  1,  0,  1,  1, -1,  1,  0,  0, -1,  1,  0,  1,  0, -1,\n",
       "        1, -1,  1,  1,  1,  0,  1,  0, -1, -1,  0,  1, -1, -1, -1,  1,  1,\n",
       "        0,  1, -1,  1, -1, -1, -1,  1,  1,  1,  0,  0,  1,  1, -1, -1,  0,\n",
       "        0,  1, -1, -1, -1, -1,  1,  0,  0,  1,  0,  1,  1,  1,  1,  1,  0,\n",
       "        1, -1, -1,  1,  1,  1,  1,  1,  1,  0,  1,  1,  0,  1,  1, -1,  1,\n",
       "        0, -1,  1,  1,  1,  0,  1, -1, -1, -1,  1,  1,  1,  1,  1,  1,  0,\n",
       "        1,  1,  1, -1,  1,  0,  1,  0, -1, -1,  0, -1, -1,  0, -1,  1,  1,\n",
       "        1,  1,  0,  1,  1,  0, -1,  0,  1,  1,  0,  0,  0,  1, -1,  1, -1,\n",
       "        1,  1,  1, -1, -1,  1,  1,  1,  1,  0, -1,  1,  0,  1,  1,  1,  1,\n",
       "        1, -1,  1, -1, -1,  1,  0,  1,  1,  1,  1,  1,  1, -1, -1,  1,  1,\n",
       "        0,  0,  1,  0,  1, -1,  1,  1, -1,  1,  1,  1,  0,  1, -1, -1, -1,\n",
       "       -1, -1,  1,  0,  1,  1,  1,  1, -1,  1,  1,  1, -1,  1, -1,  0,  1,\n",
       "        1,  1, -1,  1, -1,  1, -1,  1,  1,  1,  1,  1, -1,  0, -1,  1,  0,\n",
       "        0, -1, -1,  1, -1,  0,  1,  1,  1,  0,  1,  1,  1,  1,  1,  0,  1,\n",
       "        0, -1, -1,  1,  1,  1,  1,  1,  1,  0, -1,  1,  1,  0, -1,  1,  1,\n",
       "        1, -1,  1,  1, -1,  0,  1,  1,  1,  1,  1, -1, -1,  1,  1,  1,  0,\n",
       "        1,  1,  1,  1, -1, -1,  1,  1,  1,  1, -1,  1, -1,  0,  1,  1,  1,\n",
       "        1,  1,  1,  1,  1,  0,  0,  1,  1, -1, -1,  1,  1,  0,  1, -1, -1,\n",
       "        1,  1,  1, -1,  1,  1,  1,  1, -1,  1, -1,  0,  1, -1,  1,  1,  1,\n",
       "       -1,  1,  1,  1,  1,  1,  0,  1,  1,  1,  1,  1,  1,  1, -1,  0,  1,\n",
       "       -1,  1, -1,  1,  1,  1,  1,  0, -1,  1, -1, -1,  1,  1,  1,  1,  1,\n",
       "       -1,  1,  1,  1,  1,  1, -1,  1,  1,  1,  0,  1,  1,  1, -1,  1,  1,\n",
       "        1,  1,  1,  1,  1, -1,  0,  1,  1,  0,  1,  1, -1, -1,  1,  1,  1,\n",
       "        1,  1,  1,  1,  1,  0,  0,  1, -1, -1,  1,  0,  1,  1,  1, -1,  1,\n",
       "        1, -1,  1,  1,  0,  1, -1,  0,  1, -1,  1,  1,  1, -1, -1, -1, -1,\n",
       "        0, -1,  1, -1,  0,  1, -1, -1,  1,  1,  0,  1,  1, -1,  1,  1,  0,\n",
       "        1,  1, -1,  1, -1, -1,  1,  1,  1, -1,  1,  0,  0,  0,  0, -1,  1,\n",
       "        1,  0,  1,  1,  1, -1, -1, -1,  1,  0,  1,  1,  0, -1,  1,  1, -1,\n",
       "        0,  1,  1, -1,  0, -1, -1, -1, -1,  0, -1,  1,  1,  1,  1,  1,  1,\n",
       "       -1,  1,  0, -1,  0, -1, -1, -1,  1,  0,  1, -1,  1,  0, -1, -1,  1,\n",
       "        0,  0, -1,  0, -1,  1, -1,  1,  1, -1,  0,  1, -1, -1, -1,  1,  1,\n",
       "        1,  1,  1, -1, -1,  1,  1, -1, -1,  1,  1,  1,  0,  0, -1,  1,  0,\n",
       "        1,  1, -1,  1, -1, -1,  1,  1,  1,  1,  1,  0,  1,  0,  1, -1, -1])"
      ]
     },
     "execution_count": 51,
     "metadata": {},
     "output_type": "execute_result"
    }
   ],
   "source": [
    "preds_train"
   ]
  },
  {
   "cell_type": "markdown",
   "metadata": {},
   "source": [
    "However, as we can clearly see by looking the summary statistics of our LFs, they are not all equally accurate, and should not be treated identically. In addition to having varied accuracies and coverages, LFs may be correlated, resulting in certain signals being overrepresented in a majority-vote-based model. To handle these issues appropriately, we will instead use a more sophisticated Snorkel `LabelModel` to combine the outputs of the LFs.\n",
    "\n",
    "This model will ultimately produce a single set of noise-aware training labels, which are probabilistic or confidence-weighted labels. We will then use these labels to train a classifier for our task. For more technical details of this overall approach, see [NeurIPS 2016](https://arxiv.org/abs/1605.07723) and [AAAI 2019](https://arxiv.org/abs/1810.02840) papers. For more info on the API, see the [`LabelModel` documentation](https://snorkel.readthedocs.io/en/master/packages/_autosummary/labeling/snorkel.labeling.LabelModel.html#snorkel.labeling.LabelModel).\n",
    "\n",
    "Note that no gold labels are used during the training process.\n",
    "The only information we need is the label matrix, which contains the output of the LFs on our training set.\n",
    "The `LabelModel` is able to learn weights for the labeling functions using only the label matrix as input.\n",
    "We also specify the `cardinality`, or number of classes.\n",
    "The `LabelModel` trains much more quickly than typical discriminative models since we only need the label matrix as input."
   ]
  },
  {
   "cell_type": "code",
   "execution_count": 52,
   "metadata": {},
   "outputs": [],
   "source": [
    "from snorkel.labeling import LabelModel\n",
    "\n",
    "label_model = LabelModel(cardinality=2, verbose=True)\n",
    "label_model.fit(L_train=L_train, n_epochs=1000, lr=0.001, log_freq=100, seed=123)"
   ]
  },
  {
   "cell_type": "code",
   "execution_count": 53,
   "metadata": {},
   "outputs": [
    {
     "name": "stderr",
     "output_type": "stream",
     "text": [
      "WARNING:root:Metrics calculated over data points with non-abstain labels only\n",
      "WARNING:root:Metrics calculated over data points with non-abstain labels only\n"
     ]
    },
    {
     "name": "stdout",
     "output_type": "stream",
     "text": [
      "Majority Vote Accuracy:   42.9%\n",
      "Label Model Accuracy:     45.8%\n"
     ]
    }
   ],
   "source": [
    "majority_acc = majority_model.score(L=L_dev, Y=df_test.label.values)[\"accuracy\"]\n",
    "print(f\"{'Majority Vote Accuracy:':<25} {majority_acc * 100:.1f}%\")\n",
    "\n",
    "label_model_acc = label_model.score(L=L_dev, Y=df_test.label.values)[\"accuracy\"]\n",
    "print(f\"{'Label Model Accuracy:':<25} {label_model_acc * 100:.1f}%\")"
   ]
  },
  {
   "cell_type": "markdown",
   "metadata": {},
   "source": [
    "Let's briefly confirm that the labels the `LabelModel` produces are probabilistic in nature.\n",
    "The following histogram shows the confidences we have that each data point has the label SPAM.\n",
    "The points we are least certain about will have labels close to 0.5."
   ]
  },
  {
   "cell_type": "code",
   "execution_count": 55,
   "metadata": {},
   "outputs": [
    {
     "data": {
      "image/png": "[encoded data removed]",
      "text/plain": [
       "<Figure size 432x288 with 1 Axes>"
      ]
     },
     "metadata": {
      "needs_background": "light"
     },
     "output_type": "display_data"
    }
   ],
   "source": [
    "def plot_probabilities_histogram(Y):\n",
    "    plt.hist(Y, bins=10)\n",
    "    plt.xlabel(\"Probability of ADR\")\n",
    "    plt.ylabel(\"Number of data points\")\n",
    "    plt.savefig(\"prob_adr.png\", bbox_inches=\"tight\", dpi=300, pad_inches=0.1)\n",
    "    plt.show()\n",
    "\n",
    "\n",
    "probs_train = label_model.predict_proba(L=L_train)\n",
    "plot_probabilities_histogram(probs_train[:, ADR])"
   ]
  },
  {
   "cell_type": "markdown",
   "metadata": {},
   "source": [
    "### Filtering out unlabeled data points\n",
    "As we saw earlier, some of the data points in our `train` set received no labels from any of our LFs.\n",
    "These data points convey no supervision signal and tend to hurt performance, so we filter them out before training using a\n",
    "[built-in utility](https://snorkel.readthedocs.io/en/master/packages/_autosummary/labeling/snorkel.labeling.filter_unlabeled_dataframe.html#snorkel.labeling.filter_unlabeled_dataframe)."
   ]
  },
  {
   "cell_type": "code",
   "execution_count": 56,
   "metadata": {},
   "outputs": [],
   "source": [
    "from snorkel.labeling import filter_unlabeled_dataframe\n",
    "\n",
    "df_train_filtered, probs_train_filtered = filter_unlabeled_dataframe(\n",
    "    X=df_train, y=probs_train, L=L_train\n",
    ")"
   ]
  },
  {
   "cell_type": "markdown",
   "metadata": {},
   "source": [
    "## Training a Classifier"
   ]
  },
  {
   "cell_type": "markdown",
   "metadata": {},
   "source": [
    "Now we'll use the noisy training labels we generated in the last section to train a classifier for our task.\n",
    "**The output of the Snorkel `LabelModel` is just a set of labels which can be used with most popular libraries for performing supervised learning, such as TensorFlow, Keras, PyTorch, Scikit-Learn, Ludwig, and XGBoost etc.**\n",
    "In this tutorial, we demonstrate using classifiers from [Keras](https://keras.io) and [Scikit-Learn](https://scikit-learn.org)."
   ]
  },
  {
   "cell_type": "markdown",
   "metadata": {},
   "source": [
    "## Featurization"
   ]
  },
  {
   "cell_type": "code",
   "execution_count": 59,
   "metadata": {},
   "outputs": [],
   "source": [
    "from sklearn.feature_extraction.text import TfidfVectorizer\n",
    "vectorizer = TfidfVectorizer(stop_words=\"english\", ngram_range=(1,2))\n",
    "X_train = vectorizer.fit_transform(df_train_filtered[\"tweet\"].tolist())\n",
    "X_test = vectorizer.transform(df_test[\"tweet\"].tolist())"
   ]
  },
  {
   "cell_type": "markdown",
   "metadata": {},
   "source": [
    "### Scikit-Learn with Rounded Labels"
   ]
  },
  {
   "cell_type": "markdown",
   "metadata": {},
   "source": [
    "If we want to use a library or model that doesn't accept probabilistic labels, we can replace each label distribution with the label of the class that has the maximum probability.\n",
    "This can easily be done using the\n",
    "[`probs_to_preds` helper method](https://snorkel.readthedocs.io/en/master/packages/_autosummary/utils/snorkel.utils.probs_to_preds.html#snorkel.utils.probs_to_preds).\n",
    "It's important to note that this transformation is lossy, as we no longer have values for our confidence in each label."
   ]
  },
  {
   "cell_type": "code",
   "execution_count": 61,
   "metadata": {},
   "outputs": [],
   "source": [
    "from snorkel.utils import probs_to_preds\n",
    "\n",
    "preds_train_filtered = probs_to_preds(probs=probs_train_filtered)"
   ]
  },
  {
   "cell_type": "markdown",
   "metadata": {},
   "source": [
    "This allows us to use standard models of scikit-learn"
   ]
  },
  {
   "cell_type": "code",
   "execution_count": 62,
   "metadata": {},
   "outputs": [
    {
     "data": {
      "text/plain": [
       "LogisticRegression(C=0.001, class_weight=None, dual=False, fit_intercept=True,\n",
       "                   intercept_scaling=1, l1_ratio=None, max_iter=100,\n",
       "                   multi_class='warn', n_jobs=None, penalty='l2',\n",
       "                   random_state=None, solver='liblinear', tol=0.0001, verbose=0,\n",
       "                   warm_start=False)"
      ]
     },
     "execution_count": 62,
     "metadata": {},
     "output_type": "execute_result"
    }
   ],
   "source": [
    "from sklearn.linear_model import LogisticRegression\n",
    "\n",
    "sklearn_model = LogisticRegression(C=0.001, solver=\"liblinear\")\n",
    "sklearn_model.fit(X=X_train, y=preds_train_filtered)"
   ]
  },
  {
   "cell_type": "code",
   "execution_count": 63,
   "metadata": {},
   "outputs": [
    {
     "name": "stdout",
     "output_type": "stream",
     "text": [
      "Test Accuracy: 40.0%\n"
     ]
    }
   ],
   "source": [
    "Y_test = df_test[\"label\"].values\n",
    "print(f\"Test Accuracy: {sklearn_model.score(X=X_test, y=Y_test) * 100:.1f}%\")"
   ]
  },
  {
   "cell_type": "code",
   "execution_count": 79,
   "metadata": {},
   "outputs": [],
   "source": [
    "predictions = sklearn_model.fit(X=X_train, y=preds_train_filtered)"
   ]
  },
  {
   "cell_type": "markdown",
   "metadata": {},
   "source": [
    "### Save to disk as joblib file"
   ]
  },
  {
   "cell_type": "code",
   "execution_count": 77,
   "metadata": {},
   "outputs": [],
   "source": [
    "from joblib import dump"
   ]
  },
  {
   "cell_type": "code",
   "execution_count": null,
   "metadata": {},
   "outputs": [],
   "source": [
    "def prediction_job(input_data):\n",
    "    \"\"\"@params: type(input_data): 2D matrix\"\"\"\n",
    "    return sklearn_model.predict(X=input_data)"
   ]
  },
  {
   "cell_type": "code",
   "execution_count": 81,
   "metadata": {},
   "outputs": [
    {
     "data": {
      "text/plain": [
       "<791x9108 sparse matrix of type '<class 'numpy.float64'>'\n",
       "\twith 14310 stored elements in Compressed Sparse Row format>"
      ]
     },
     "execution_count": 81,
     "metadata": {},
     "output_type": "execute_result"
    }
   ],
   "source": []
  }
 ],
 "metadata": {
  "kernelspec": {
   "display_name": "sadrat",
   "language": "python",
   "name": "sadrat"
  },
  "language_info": {
   "codemirror_mode": {
    "name": "ipython",
    "version": 3
   },
   "file_extension": ".py",
   "mimetype": "text/x-python",
   "name": "python",
   "nbconvert_exporter": "python",
   "pygments_lexer": "ipython3",
   "version": "3.7.2"
  }
 },
 "nbformat": 4,
 "nbformat_minor": 2
}
