{
 "cells": [
  {
   "cell_type": "code",
   "execution_count": 1,
   "metadata": {},
   "outputs": [],
   "source": [
    "import json\n",
    "import spacy\n",
    "import scispacy\n",
    "from scispacy.umls_linking import UmlsEntityLinker"
   ]
  },
  {
   "cell_type": "code",
   "execution_count": 2,
   "metadata": {},
   "outputs": [],
   "source": [
    "nlp = spacy.load(\"en_ner_bc5cdr_md\")\n",
    "text = (\"Here is the caveat........... Tony will always have issues with his brain. He used to constantly worry about things that have no significance. For example, he would tell me that he is worrying about something that happened 8 months ago or worry that he has upset or possibly offended me, a teacher or a neighbor in some way. His worrying used to dictate his life after the Singulair. I'm explaining this because I want everyone to know what has helped Tony and not only changed his life but our family's life. After MUCH research, I put Tony on a protocol of vitamins. The MOST important being 1000 mg. of Niacin 3x's a day (3 grams total per day) - NON FLUSHING!!!! The 2nd most important supplement I give him is St. John's Wort. If we are in a hurry, he MUST take at the very least those two supplements and when we get back home he can take the rest. We have been in the car on our way to dinner and he has asked me to turn around because he forgot the Niacin - it has changed his life. I now ALWAYS keep an extra bottle Niacin in the car.\")\n",
    "doc = nlp(text)"
   ]
  },
  {
   "cell_type": "code",
   "execution_count": 3,
   "metadata": {},
   "outputs": [],
   "source": [
    "with open(\"../additional resources/drug_disease.json\", \"r\") as file:\n",
    "    drug_disease = json.load(file)"
   ]
  },
  {
   "cell_type": "code",
   "execution_count": 4,
   "metadata": {},
   "outputs": [],
   "source": [
    "def get_disease(drug):\n",
    "    try:\n",
    "        try:\n",
    "            return sorted(drug_disease[drug])\n",
    "        except:\n",
    "            drug = drug.capitalize()\n",
    "            return sorted(drug_disease[drug])\n",
    "    except:\n",
    "        return \"Drug Not found!!!\""
   ]
  },
  {
   "cell_type": "code",
   "execution_count": 5,
   "metadata": {},
   "outputs": [
    {
     "name": "stdout",
     "output_type": "stream",
     "text": [
      "Drug Not found!!!\n",
      "['Acidosis', 'Acidosis, Lactic', 'Alzheimer Disease', 'Amblyopia', 'Anemia, Megaloblastic', 'Arteriosclerosis', 'Atherosclerosis', 'Breast Neoplasms', 'Cardiovascular Diseases', 'Carotid Artery Diseases', 'Cataract', 'Cattle Diseases', 'Chemical and Drug Induced Liver Injury', 'Chills', 'Cholestasis', 'Cholestasis, Intrahepatic', 'Chromosomal Instability', 'Cleft Lip', 'Cleft Palate', 'Cognition Disorders', 'Coronary Artery Disease', 'Coronary Disease', 'Coronary Stenosis', 'Delirium', 'Diabetes Mellitus', 'Diabetic Angiopathies', 'Dizziness', 'Drug-Related Side Effects and Adverse Reactions', 'Dyskinesias', 'Dyslipidemias', 'Dyspepsia', 'Edema', 'Endotoxemia', 'Erythema', 'Exanthema', 'Exophthalmos', 'Eye Diseases', 'Eyelid Diseases', 'Fatty Liver', 'Flushing', 'Gastrointestinal Diseases', 'Glomerulosclerosis, Focal Segmental', 'Glucose Intolerance', 'Gout', 'Hepatic Encephalopathy', 'Hepatitis', 'Hypercholesterolemia', 'Hyperglycemia', 'Hyperhomocysteinemia', 'Hyperlipidemia, Familial Combined', 'Hyperlipidemias', 'Hyperlipoproteinemia Type II', 'Hyperlipoproteinemia Type III', 'Hyperlipoproteinemia Type V', 'Hyperlipoproteinemias', 'Hypertension', 'Hypertriglyceridemia', 'Hypoalphalipoproteinemias', 'Hypoglycemia', 'Hypokinesia', 'Hypolipoproteinemias', 'Hypotension', 'Infarction, Middle Cerebral Artery', 'Inflammation', 'Insulin Resistance', 'Ischemic Attack, Transient', 'Jaundice', 'Keratitis', 'Ketosis', 'Kidney Failure, Chronic', 'Leukemia', 'Leukemia, Myeloid, Acute', 'Lipodystrophy', 'Liver Failure, Acute', 'Lung Injury', 'Macular Edema', 'Massive Hepatic Necrosis', 'Metabolic Syndrome', 'Migraine Disorders', 'Muscle Rigidity', 'Muscular Diseases', 'Myocardial Infarction', 'Myocardial Ischemia', 'Myocardial Reperfusion Injury', 'Nausea', 'Necrosis', 'Neoplasms', 'Ocular Hypertension', 'Pain', 'Paresthesia', 'Pellagra', 'Peripheral Nervous System Diseases', 'Pharyngitis', 'Pneumonia', 'Proteinuria', 'Pruritus', 'Retinal Degeneration', 'Retinal Diseases', 'Signs and Symptoms, Digestive', \"Sjogren's Syndrome\", 'Skin Diseases', 'Skin Manifestations', 'Spinal Dysraphism', 'Stroke', 'Syncope', 'Tension-Type Headache', 'Toothache', 'Vision Disorders', 'Vomiting', 'Wounds and Injuries']\n"
     ]
    }
   ],
   "source": [
    "drugs = []\n",
    "for entity in doc.ents:\n",
    "    drug = entity.text\n",
    "    label = entity.label_\n",
    "    if label==\"CHEMICAL\" and drug not in drugs:\n",
    "        print(get_disease(drug))\n",
    "    elif label==\"DISEASE\":\n",
    "        print(drug)\n",
    "    drugs.append(drug)"
   ]
  },
  {
   "cell_type": "code",
   "execution_count": null,
   "metadata": {},
   "outputs": [],
   "source": []
  }
 ],
 "metadata": {
  "kernelspec": {
   "display_name": "sadrat",
   "language": "python",
   "name": "sadrat"
  },
  "language_info": {
   "codemirror_mode": {
    "name": "ipython",
    "version": 3
   },
   "file_extension": ".py",
   "mimetype": "text/x-python",
   "name": "python",
   "nbconvert_exporter": "python",
   "pygments_lexer": "ipython3",
   "version": "3.7.4"
  }
 },
 "nbformat": 4,
 "nbformat_minor": 2
}
