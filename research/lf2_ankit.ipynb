{
 "cells": [
  {
   "cell_type": "code",
   "execution_count": 13,
   "metadata": {},
   "outputs": [],
   "source": [
    "import numpy as np\n",
    "import pandas as pd"
   ]
  },
  {
   "cell_type": "code",
   "execution_count": 14,
   "metadata": {},
   "outputs": [],
   "source": [
    "df = pd.read_csv(\"../sample/medications_dot_com_data.csv\")"
   ]
  },
  {
   "cell_type": "code",
   "execution_count": 15,
   "metadata": {},
   "outputs": [],
   "source": [
    "df.rename(columns={'id': \"id\", \" drugname\":\"drugname\", \" comment\":\"comment\"}, inplace=True)"
   ]
  },
  {
   "cell_type": "code",
   "execution_count": 16,
   "metadata": {},
   "outputs": [
    {
     "data": {
      "text/html": [
       "<div>\n",
       "<style scoped>\n",
       "    .dataframe tbody tr th:only-of-type {\n",
       "        vertical-align: middle;\n",
       "    }\n",
       "\n",
       "    .dataframe tbody tr th {\n",
       "        vertical-align: top;\n",
       "    }\n",
       "\n",
       "    .dataframe thead th {\n",
       "        text-align: right;\n",
       "    }\n",
       "</style>\n",
       "<table border=\"1\" class=\"dataframe\">\n",
       "  <thead>\n",
       "    <tr style=\"text-align: right;\">\n",
       "      <th></th>\n",
       "      <th>id</th>\n",
       "      <th>drugname</th>\n",
       "      <th>comment</th>\n",
       "    </tr>\n",
       "  </thead>\n",
       "  <tbody>\n",
       "    <tr>\n",
       "      <th>0</th>\n",
       "      <td>0</td>\n",
       "      <td>levaquin</td>\n",
       "      <td>ive been allergic to many antibiotics since I ...</td>\n",
       "    </tr>\n",
       "    <tr>\n",
       "      <th>1</th>\n",
       "      <td>1</td>\n",
       "      <td>levaquin</td>\n",
       "      <td>Was prescribed leviquin for sinus.  Took dose ...</td>\n",
       "    </tr>\n",
       "    <tr>\n",
       "      <th>2</th>\n",
       "      <td>2</td>\n",
       "      <td>levaquin</td>\n",
       "      <td>Been reading the blog - thank God.  Thank God ...</td>\n",
       "    </tr>\n",
       "    <tr>\n",
       "      <th>3</th>\n",
       "      <td>3</td>\n",
       "      <td>levaquin</td>\n",
       "      <td>1/14/2012. I was given Levaquin and two steroi...</td>\n",
       "    </tr>\n",
       "    <tr>\n",
       "      <th>4</th>\n",
       "      <td>4</td>\n",
       "      <td>levaquin</td>\n",
       "      <td>today was my 3rd day of taking levaquin. i suf...</td>\n",
       "    </tr>\n",
       "  </tbody>\n",
       "</table>\n",
       "</div>"
      ],
      "text/plain": [
       "   id  drugname                                            comment\n",
       "0   0  levaquin  ive been allergic to many antibiotics since I ...\n",
       "1   1  levaquin  Was prescribed leviquin for sinus.  Took dose ...\n",
       "2   2  levaquin  Been reading the blog - thank God.  Thank God ...\n",
       "3   3  levaquin  1/14/2012. I was given Levaquin and two steroi...\n",
       "4   4  levaquin  today was my 3rd day of taking levaquin. i suf..."
      ]
     },
     "execution_count": 16,
     "metadata": {},
     "output_type": "execute_result"
    }
   ],
   "source": [
    "df.head()"
   ]
  },
  {
   "cell_type": "code",
   "execution_count": 17,
   "metadata": {},
   "outputs": [],
   "source": [
    "import nltk\n",
    "from nltk.corpus import stopwords\n",
    "from nltk.stem import PorterStemmer\n",
    "from nltk.tokenize import word_tokenize"
   ]
  },
  {
   "cell_type": "code",
   "execution_count": 18,
   "metadata": {},
   "outputs": [],
   "source": [
    "stop_words = set(stopwords.words('english'))\n",
    "ps = PorterStemmer()"
   ]
  },
  {
   "cell_type": "code",
   "execution_count": 19,
   "metadata": {},
   "outputs": [],
   "source": [
    "i = 0\n",
    "for comment in df['comment']:\n",
    "    sentence = []\n",
    "    words = word_tokenize(comment)\n",
    "    for w in words:\n",
    "        if w not in stop_words:\n",
    "            sentence.append(w)\n",
    "    df.loc[i, \"comments\"] = \" \".join(sentence)\n",
    "    i += 1"
   ]
  },
  {
   "cell_type": "code",
   "execution_count": 20,
   "metadata": {},
   "outputs": [
    {
     "data": {
      "text/html": [
       "<div>\n",
       "<style scoped>\n",
       "    .dataframe tbody tr th:only-of-type {\n",
       "        vertical-align: middle;\n",
       "    }\n",
       "\n",
       "    .dataframe tbody tr th {\n",
       "        vertical-align: top;\n",
       "    }\n",
       "\n",
       "    .dataframe thead th {\n",
       "        text-align: right;\n",
       "    }\n",
       "</style>\n",
       "<table border=\"1\" class=\"dataframe\">\n",
       "  <thead>\n",
       "    <tr style=\"text-align: right;\">\n",
       "      <th></th>\n",
       "      <th>id</th>\n",
       "      <th>drugname</th>\n",
       "      <th>comment</th>\n",
       "      <th>comments</th>\n",
       "    </tr>\n",
       "  </thead>\n",
       "  <tbody>\n",
       "    <tr>\n",
       "      <th>0</th>\n",
       "      <td>0</td>\n",
       "      <td>levaquin</td>\n",
       "      <td>ive been allergic to many antibiotics since I ...</td>\n",
       "      <td>ive allergic many antibiotics since I kid . I ...</td>\n",
       "    </tr>\n",
       "    <tr>\n",
       "      <th>1</th>\n",
       "      <td>1</td>\n",
       "      <td>levaquin</td>\n",
       "      <td>Was prescribed leviquin for sinus.  Took dose ...</td>\n",
       "      <td>Was prescribed leviquin sinus . Took dose stor...</td>\n",
       "    </tr>\n",
       "    <tr>\n",
       "      <th>2</th>\n",
       "      <td>2</td>\n",
       "      <td>levaquin</td>\n",
       "      <td>Been reading the blog - thank God.  Thank God ...</td>\n",
       "      <td>Been reading blog - thank God . Thank God I st...</td>\n",
       "    </tr>\n",
       "    <tr>\n",
       "      <th>3</th>\n",
       "      <td>3</td>\n",
       "      <td>levaquin</td>\n",
       "      <td>1/14/2012. I was given Levaquin and two steroi...</td>\n",
       "      <td>1/14/2012 . I given Levaquin two steroid shots...</td>\n",
       "    </tr>\n",
       "    <tr>\n",
       "      <th>4</th>\n",
       "      <td>4</td>\n",
       "      <td>levaquin</td>\n",
       "      <td>today was my 3rd day of taking levaquin. i suf...</td>\n",
       "      <td>today 3rd day taking levaquin . suffered neuro...</td>\n",
       "    </tr>\n",
       "  </tbody>\n",
       "</table>\n",
       "</div>"
      ],
      "text/plain": [
       "   id  drugname                                            comment  \\\n",
       "0   0  levaquin  ive been allergic to many antibiotics since I ...   \n",
       "1   1  levaquin  Was prescribed leviquin for sinus.  Took dose ...   \n",
       "2   2  levaquin  Been reading the blog - thank God.  Thank God ...   \n",
       "3   3  levaquin  1/14/2012. I was given Levaquin and two steroi...   \n",
       "4   4  levaquin  today was my 3rd day of taking levaquin. i suf...   \n",
       "\n",
       "                                            comments  \n",
       "0  ive allergic many antibiotics since I kid . I ...  \n",
       "1  Was prescribed leviquin sinus . Took dose stor...  \n",
       "2  Been reading blog - thank God . Thank God I st...  \n",
       "3  1/14/2012 . I given Levaquin two steroid shots...  \n",
       "4  today 3rd day taking levaquin . suffered neuro...  "
      ]
     },
     "execution_count": 20,
     "metadata": {},
     "output_type": "execute_result"
    }
   ],
   "source": [
    "df.head()"
   ]
  },
  {
   "cell_type": "code",
   "execution_count": 24,
   "metadata": {},
   "outputs": [],
   "source": [
    "from gensim.summarization import summarize\n",
    "from gensim.summarization import keywords"
   ]
  },
  {
   "cell_type": "code",
   "execution_count": 25,
   "metadata": {},
   "outputs": [],
   "source": [
    "df['summary'] = df['comment'].apply(summarize)"
   ]
  },
  {
   "cell_type": "code",
   "execution_count": 26,
   "metadata": {},
   "outputs": [],
   "source": [
    "df['keywords'] = df['comment'].apply(keywords, args=(0.2,None,True,False,('NN', 'JJ'),False,True))"
   ]
  },
  {
   "cell_type": "code",
   "execution_count": 27,
   "metadata": {},
   "outputs": [],
   "source": [
    "adr_symptom_list = ['infection', 'leg', 'eye', 'vision', 'hurt', 'joint', 'muscle', 'burn', 'rash', 'throat', 'mouth', 'pain', 'nerve', 'faint', 'cramps']"
   ]
  },
  {
   "cell_type": "code",
   "execution_count": 28,
   "metadata": {},
   "outputs": [
    {
     "data": {
      "text/html": [
       "<div>\n",
       "<style scoped>\n",
       "    .dataframe tbody tr th:only-of-type {\n",
       "        vertical-align: middle;\n",
       "    }\n",
       "\n",
       "    .dataframe tbody tr th {\n",
       "        vertical-align: top;\n",
       "    }\n",
       "\n",
       "    .dataframe thead th {\n",
       "        text-align: right;\n",
       "    }\n",
       "</style>\n",
       "<table border=\"1\" class=\"dataframe\">\n",
       "  <thead>\n",
       "    <tr style=\"text-align: right;\">\n",
       "      <th></th>\n",
       "      <th>id</th>\n",
       "      <th>drugname</th>\n",
       "      <th>comment</th>\n",
       "      <th>comments</th>\n",
       "      <th>summary</th>\n",
       "      <th>keywords</th>\n",
       "    </tr>\n",
       "  </thead>\n",
       "  <tbody>\n",
       "    <tr>\n",
       "      <th>0</th>\n",
       "      <td>0</td>\n",
       "      <td>levaquin</td>\n",
       "      <td>ive been allergic to many antibiotics since I ...</td>\n",
       "      <td>ive allergic many antibiotics since I kid . I ...</td>\n",
       "      <td>By 2000 I was diagnosed with psoriatic arthrit...</td>\n",
       "      <td>[infection, infections, like, indecriminent, v...</td>\n",
       "    </tr>\n",
       "    <tr>\n",
       "      <th>1</th>\n",
       "      <td>1</td>\n",
       "      <td>levaquin</td>\n",
       "      <td>Was prescribed leviquin for sinus.  Took dose ...</td>\n",
       "      <td>Was prescribed leviquin sinus . Took dose stor...</td>\n",
       "      <td>Began walking to car in drugstore parking lot....</td>\n",
       "      <td>[leviquin, body, making, took, began, symptoms...</td>\n",
       "    </tr>\n",
       "    <tr>\n",
       "      <th>2</th>\n",
       "      <td>2</td>\n",
       "      <td>levaquin</td>\n",
       "      <td>Been reading the blog - thank God.  Thank God ...</td>\n",
       "      <td>Been reading blog - thank God . Thank God I st...</td>\n",
       "      <td>more »Been reading the blog - thank God.\\nI be...</td>\n",
       "      <td>[friend, eye, neck, thank, paranoid]</td>\n",
       "    </tr>\n",
       "    <tr>\n",
       "      <th>3</th>\n",
       "      <td>3</td>\n",
       "      <td>levaquin</td>\n",
       "      <td>1/14/2012. I was given Levaquin and two steroi...</td>\n",
       "      <td>1/14/2012 . I given Levaquin two steroid shots...</td>\n",
       "      <td>3/6 Left shoulder starts crunching.\\n3/6 Left ...</td>\n",
       "      <td>[infection, left, starts, calf, pain, cold, ri...</td>\n",
       "    </tr>\n",
       "    <tr>\n",
       "      <th>4</th>\n",
       "      <td>4</td>\n",
       "      <td>levaquin</td>\n",
       "      <td>today was my 3rd day of taking levaquin. i suf...</td>\n",
       "      <td>today 3rd day taking levaquin . suffered neuro...</td>\n",
       "      <td>now i'm feeling better, about 12 hours later, ...</td>\n",
       "      <td>[feeling, feels, bruised]</td>\n",
       "    </tr>\n",
       "  </tbody>\n",
       "</table>\n",
       "</div>"
      ],
      "text/plain": [
       "   id  drugname                                            comment  \\\n",
       "0   0  levaquin  ive been allergic to many antibiotics since I ...   \n",
       "1   1  levaquin  Was prescribed leviquin for sinus.  Took dose ...   \n",
       "2   2  levaquin  Been reading the blog - thank God.  Thank God ...   \n",
       "3   3  levaquin  1/14/2012. I was given Levaquin and two steroi...   \n",
       "4   4  levaquin  today was my 3rd day of taking levaquin. i suf...   \n",
       "\n",
       "                                            comments  \\\n",
       "0  ive allergic many antibiotics since I kid . I ...   \n",
       "1  Was prescribed leviquin sinus . Took dose stor...   \n",
       "2  Been reading blog - thank God . Thank God I st...   \n",
       "3  1/14/2012 . I given Levaquin two steroid shots...   \n",
       "4  today 3rd day taking levaquin . suffered neuro...   \n",
       "\n",
       "                                             summary  \\\n",
       "0  By 2000 I was diagnosed with psoriatic arthrit...   \n",
       "1  Began walking to car in drugstore parking lot....   \n",
       "2  more »Been reading the blog - thank God.\\nI be...   \n",
       "3  3/6 Left shoulder starts crunching.\\n3/6 Left ...   \n",
       "4  now i'm feeling better, about 12 hours later, ...   \n",
       "\n",
       "                                            keywords  \n",
       "0  [infection, infections, like, indecriminent, v...  \n",
       "1  [leviquin, body, making, took, began, symptoms...  \n",
       "2               [friend, eye, neck, thank, paranoid]  \n",
       "3  [infection, left, starts, calf, pain, cold, ri...  \n",
       "4                          [feeling, feels, bruised]  "
      ]
     },
     "execution_count": 28,
     "metadata": {},
     "output_type": "execute_result"
    }
   ],
   "source": [
    "df.head()"
   ]
  },
  {
   "cell_type": "code",
   "execution_count": null,
   "metadata": {},
   "outputs": [],
   "source": [
    "from snorkel.labeling import labeling_function"
   ]
  },
  {
   "cell_type": "code",
   "execution_count": null,
   "metadata": {},
   "outputs": [],
   "source": [
    "@labeling_function()\n",
    "def keyword_adr(keyword_list):\n",
    "    keyword_set = set(keyword_list)\n",
    "    adr_set = set(adr_list)\n",
    "    if (keyword_set & adr_set):\n",
    "        return 1\n",
    "    else:\n",
    "        return 0"
   ]
  }
 ],
 "metadata": {
  "kernelspec": {
   "display_name": "sadrat",
   "language": "python",
   "name": "sadrat"
  },
  "language_info": {
   "codemirror_mode": {
    "name": "ipython",
    "version": 3
   },
   "file_extension": ".py",
   "mimetype": "text/x-python",
   "name": "python",
   "nbconvert_exporter": "python",
   "pygments_lexer": "ipython3",
   "version": "3.7.2"
  }
 },
 "nbformat": 4,
 "nbformat_minor": 2
}
